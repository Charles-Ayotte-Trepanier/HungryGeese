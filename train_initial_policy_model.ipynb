{
 "cells": [
  {
   "cell_type": "code",
   "execution_count": null,
   "metadata": {},
   "outputs": [],
   "source": [
    "import pickle\n",
    "from agents.nnAgent import nnModel, train_test_splitter\n",
    "import tensorflow as tf"
   ]
  },
  {
   "cell_type": "code",
   "execution_count": 1,
   "metadata": {},
   "outputs": [
    {
     "ename": "NameError",
     "evalue": "name 'tf' is not defined",
     "output_type": "error",
     "traceback": [
      "\u001b[0;31m---------------------------------------------------------------------------\u001b[0m",
      "\u001b[0;31mNameError\u001b[0m                                 Traceback (most recent call last)",
      "\u001b[0;32m<ipython-input-1-40ef2681cebe>\u001b[0m in \u001b[0;36m<module>\u001b[0;34m\u001b[0m\n\u001b[0;32m----> 1\u001b[0;31m \u001b[0mtf\u001b[0m\u001b[0;34m.\u001b[0m\u001b[0mcompat\u001b[0m\u001b[0;34m.\u001b[0m\u001b[0mv1\u001b[0m\u001b[0;34m.\u001b[0m\u001b[0mreset_default_graph\u001b[0m\u001b[0;34m(\u001b[0m\u001b[0;34m)\u001b[0m\u001b[0;34m\u001b[0m\u001b[0;34m\u001b[0m\u001b[0m\n\u001b[0m\u001b[1;32m      2\u001b[0m \u001b[0;34m\u001b[0m\u001b[0m\n\u001b[1;32m      3\u001b[0m \u001b[0mpolicy_model\u001b[0m \u001b[0;34m=\u001b[0m \u001b[0mnnModel\u001b[0m\u001b[0;34m(\u001b[0m\u001b[0;34m'policy'\u001b[0m\u001b[0;34m)\u001b[0m\u001b[0;34m\u001b[0m\u001b[0;34m\u001b[0m\u001b[0m\n\u001b[1;32m      4\u001b[0m \u001b[0mpolicy_model\u001b[0m\u001b[0;34m.\u001b[0m\u001b[0mbuild_model\u001b[0m\u001b[0;34m(\u001b[0m\u001b[0;34m)\u001b[0m\u001b[0;34m\u001b[0m\u001b[0;34m\u001b[0m\u001b[0m\n\u001b[1;32m      5\u001b[0m \u001b[0;34m\u001b[0m\u001b[0m\n",
      "\u001b[0;31mNameError\u001b[0m: name 'tf' is not defined"
     ]
    }
   ],
   "source": [
    "tf.compat.v1.reset_default_graph()\n",
    "\n",
    "policy_model = nnModel('policy')\n",
    "policy_model.build_model(3)\n",
    "\n",
    "v_model = nnModel('state_value')\n",
    "v_model.build_model(3)"
   ]
  },
  {
   "cell_type": "code",
   "execution_count": 2,
   "metadata": {},
   "outputs": [],
   "source": [
    "nb_passes = 3\n",
    "nb_files = 22\n",
    "nb_epochs = 5\n",
    "batch_size = 1024"
   ]
  },
  {
   "cell_type": "code",
   "execution_count": null,
   "metadata": {},
   "outputs": [],
   "source": [
    "for it in range(nb_passes):\n",
    "    print(f'Pass #{it}')\n",
    "    for i in range(nb_files):\n",
    "        path = f'./data/it_{i}_v2.pkl'\n",
    "        with open(path, 'rb') as f:\n",
    "            data = pickle.load(f)\n",
    "        print(f'learning using \"{path}\"')\n",
    "        X = data['state']\n",
    "        y = data['y']\n",
    "        v = data['v']\n",
    "        X_train, X_test, y_train, y_test = train_test_splitter(X, y, 0.05)\n",
    "        \n",
    "        policy_model.fit(X_train,\n",
    "                         y_train,\n",
    "                         X_test,\n",
    "                         y_test,\n",
    "                         epoch=nb_epochs,\n",
    "                         batch_size=batch_size)\n",
    "        \n",
    "policy_model.save('rule_based_policy')"
   ]
  },
  {
   "cell_type": "code",
   "execution_count": null,
   "metadata": {},
   "outputs": [],
   "source": [
    "for it in range(nb_passes):\n",
    "    print(f'Pass #{it}')\n",
    "    for i in range(nb_files):\n",
    "        path = f'./data/it_{i}_v2.pkl'\n",
    "        with open(path, 'rb') as f:\n",
    "            data = pickle.load(f)\n",
    "        print(f'learning using \"{path}\"')\n",
    "        X = data['state']\n",
    "        y = data['y']\n",
    "        v = data['v']\n",
    "        X_train, X_test, y_train, y_test, v_train, v_test = train_test_splitter(X, y, 0.05, v=v)\n",
    "\n",
    "        v_model.fit(X_train,\n",
    "                    v_train,\n",
    "                    X_test,\n",
    "                    v_test,\n",
    "                    epoch=nb_epochs,\n",
    "                    batch_size=batch_size)\n",
    "v_model.save('state_value')"
   ]
  }
 ],
 "metadata": {
  "kernelspec": {
   "display_name": "Python 3",
   "language": "python",
   "name": "python3"
  },
  "language_info": {
   "codemirror_mode": {
    "name": "ipython",
    "version": 3
   },
   "file_extension": ".py",
   "mimetype": "text/x-python",
   "name": "python",
   "nbconvert_exporter": "python",
   "pygments_lexer": "ipython3",
   "version": "3.8.5"
  }
 },
 "nbformat": 4,
 "nbformat_minor": 4
}
