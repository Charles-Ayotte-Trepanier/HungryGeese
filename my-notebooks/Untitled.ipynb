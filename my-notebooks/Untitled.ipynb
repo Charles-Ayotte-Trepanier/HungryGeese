{
 "cells": [
  {
   "cell_type": "code",
   "execution_count": 32,
   "metadata": {},
   "outputs": [
    {
     "name": "stdout",
     "output_type": "stream",
     "text": [
      "Overwriting train_v_model.py\n"
     ]
    }
   ],
   "source": [
    "%%writefile train_v_model.py\n",
    "import os, pickle\n",
    "from math import ceil\n",
    "import numpy as np\n",
    "from tensorflow.keras.layers import Dense,Input, Embedding, concatenate,\\\n",
    "    Flatten, Average, Dropout, BatchNormalization, Activation\n",
    "from tensorflow.keras import Sequential, Model\n",
    "from tensorflow import config, distribute\n",
    "import tensorflow as tf\n",
    "from tensorflow import keras\n",
    "from tensorflow.keras.callbacks import Callback, EarlyStopping\n",
    "from sklearn.metrics import roc_auc_score, mean_squared_error\n",
    "from sklearn.model_selection import train_test_split"
   ]
  },
  {
   "cell_type": "code",
   "execution_count": 33,
   "metadata": {},
   "outputs": [
    {
     "name": "stdout",
     "output_type": "stream",
     "text": [
      "Appending to train_v_model.py\n"
     ]
    }
   ],
   "source": [
    "%%writefile -a train_v_model.py\n",
    "def train_test_splitter(X, y, test_ratio, v=None):\n",
    "    train, test = train_test_split(range(y.shape[0]), test_size=test_ratio)\n",
    "    X_train = [feature[train,:] for feature in X]\n",
    "    X_test = [feature[test,:] for feature in X]\n",
    "    y_train = y[train, :]\n",
    "    y_test = y[test, :]\n",
    "    add = ()\n",
    "    if v is not None:\n",
    "        v_train = np.array(v, dtype=float)[train].reshape(-1, 1)\n",
    "        v_test = np.array(v, dtype=float)[test].reshape(-1, 1)\n",
    "        add += (v_train, v_test)\n",
    "    return (X_train, X_test, y_train, y_test) + add"
   ]
  },
  {
   "cell_type": "code",
   "execution_count": 34,
   "metadata": {},
   "outputs": [
    {
     "name": "stdout",
     "output_type": "stream",
     "text": [
      "Appending to train_v_model.py\n"
     ]
    }
   ],
   "source": [
    "%%writefile -a train_v_model.py\n",
    "class nnModel:\n",
    "    def __init__(self, prediction_type):\n",
    "        self.prediction_type = prediction_type\n",
    "        self.model = None\n",
    "        \n",
    "    def build_model(self):\n",
    "        embedding = Embedding(17, 2, input_length=1)\n",
    "        num_layers = []\n",
    "        for _ in range(5):\n",
    "            num_layers.append(Input(shape=1))\n",
    "        emb_layers = []\n",
    "        for i in range(7*11):\n",
    "            m = Sequential()\n",
    "            embedding._name = f'embeddings_{i}'\n",
    "            m.add(embedding)\n",
    "            m.add(Flatten(name=f'flat_embeddings-{i}'))\n",
    "            emb_layers.append(m)\n",
    "\n",
    "        inputs = num_layers + [inp.input for inp in emb_layers]\n",
    "        outputs = num_layers + [inp.output for inp in emb_layers]\n",
    "\n",
    "        c = concatenate(outputs)\n",
    "        model = Dense(200, activation='elu')(c)\n",
    "        model = BatchNormalization()(model)\n",
    "        model = Dropout(rate=0.2, input_shape=(200,))(model)\n",
    "        model = Dense(100, activation='elu')(model)\n",
    "        model = Dropout(rate=0.2, input_shape=(100,))(model)\n",
    "        model = BatchNormalization()(model)\n",
    "        model = Dense(50, activation='elu')(model)\n",
    "        model = BatchNormalization()(model)\n",
    "        model = Dense(20, activation='elu')(model)\n",
    "        model = BatchNormalization()(model)\n",
    "        model = Dense(10, activation='elu')(model)\n",
    "        model = BatchNormalization()(model)\n",
    "        if self.prediction_type == 'policy':\n",
    "            activation = 'softmax'\n",
    "            loss = 'categorical_crossentropy'\n",
    "            output_dim = 4\n",
    "        elif self.prediction_type == 'state_value':\n",
    "            activation = 'sigmoid'\n",
    "            loss = 'binary_crossentropy'\n",
    "            output_dim = 1\n",
    "        model = Dense(output_dim, activation=activation)(model)\n",
    "\n",
    "        m = Model(inputs, model)\n",
    "        m.compile(optimizer='adam',\n",
    "                  loss=loss,\n",
    "                  metrics=['accuracy', 'AUC'])\n",
    "        self.model = m\n",
    "    \n",
    "    def get_weights(self):\n",
    "        pass\n",
    "    \n",
    "    def replace_weights(self, weights):\n",
    "        pass\n",
    "    \n",
    "    def freeze_layers(self):\n",
    "        pass\n",
    "\n",
    "    def load(self, name):\n",
    "        path = f'../models/{name}'\n",
    "        self.model = keras.models.load_model(path)\n",
    "        return self.model\n",
    "\n",
    "\n",
    "    def save(self, name):\n",
    "        path = f'../models/{name}'\n",
    "        self.model.save(path)\n"
   ]
  },
  {
   "cell_type": "code",
   "execution_count": 35,
   "metadata": {},
   "outputs": [
    {
     "name": "stdout",
     "output_type": "stream",
     "text": [
      "Appending to train_v_model.py\n"
     ]
    }
   ],
   "source": [
    "%%writefile -a train_v_model.py\n",
    "def reset_weights(model):\n",
    "    session = K.get_session()\n",
    "    for layer in model.layers:\n",
    "        if hasattr(layer, 'kernel_initializer'):\n",
    "            layer.kernel.initializer.run(session=session)\n",
    "        if hasattr(layer, 'bias_initializer'):\n",
    "            layer.bias.initializer.run(session=session)\n",
    "\n",
    "class perf_callback(Callback):\n",
    "    def __init__(self, X, y):\n",
    "        self.X = X\n",
    "        self.y = y\n",
    "    def on_epoch_end(self, epoch, logs={}):\n",
    "        y_pred = self.model.predict(self.X)\n",
    "        perf = roc_auc_score(self.y, y_pred, average='micro')\n",
    "        if self.y.shape[1] > 1:\n",
    "            accuracy = np.mean(np.argmax(y_pred, axis=1) == np.argmax(self.y, axis=1))\n",
    "        elif self.y.shape[1] == 1:\n",
    "            accuracy = np.nan#np.mean((pred.reshape(-1) >=0.5) == (self.y.reshape(-1) == 1))\n",
    "            # Can't figure out what predictions for state-value model is not same dimension as target\n",
    "        print(f'Validation auc: {perf}')\n",
    "        print(f'Validation accuracy: {accuracy}')\n",
    "        logs['validation'] = perf\n",
    "        \n",
    "\n",
    "early_stop = EarlyStopping(patience=1,\n",
    "                           monitor='validation',\n",
    "                           mode='max')"
   ]
  },
  {
   "cell_type": "code",
   "execution_count": 36,
   "metadata": {},
   "outputs": [
    {
     "name": "stdout",
     "output_type": "stream",
     "text": [
      "Appending to train_v_model.py\n"
     ]
    }
   ],
   "source": [
    "%%writefile -a train_v_model.py\n",
    "tf.compat.v1.reset_default_graph()\n",
    "\n",
    "# policy_model = nnModel('policy')\n",
    "# policy_model.build_model()\n",
    "\n",
    "v_model = nnModel('state_value')\n",
    "v_model.load('rule_based_v')"
   ]
  },
  {
   "cell_type": "code",
   "execution_count": 37,
   "metadata": {
    "scrolled": true
   },
   "outputs": [
    {
     "name": "stdout",
     "output_type": "stream",
     "text": [
      "Appending to train_v_model.py\n"
     ]
    }
   ],
   "source": [
    "%%writefile -a train_v_model.py\n",
    "nb_passes = 20\n",
    "nb_files = 41\n",
    "\n",
    "for it in range(nb_passes):\n",
    "    print(f'Pass #{it}')\n",
    "    for i in range(nb_files):\n",
    "        path = f'../data/it_{i}.pkl'\n",
    "        with open(path, 'rb') as f:\n",
    "            data = pickle.load(f)\n",
    "        print(f'learning using \"{path}\"')\n",
    "        X = data['state']\n",
    "        y = data['y']\n",
    "        v = data['v']\n",
    "        X_train, X_test, y_train, y_test, v_train, v_test = train_test_splitter(X, y, 0.05, v=v)\n",
    "        v_callbacks = [perf_callback(X_test, v_test),\n",
    "                        early_stop]\n",
    "        policy_callbacks = [perf_callback(X_test, y_test),\n",
    "                            early_stop]\n",
    "        \n",
    "        print(\"v model\")\n",
    "        v_model.model.fit(X_train,\n",
    "                           v_train,\n",
    "                           epochs=1,\n",
    "                           batch_size=4096,\n",
    "                           callbacks=v_callbacks)\n",
    "        v_model.save('rule_based_v')\n",
    "    v_model.save('rule_based_v')\n",
    "        \n",
    "#         print(\"Policy model\")\n",
    "#         policy_model.model.fit(X_train,\n",
    "#                                y_train,\n",
    "#                                epochs=1,\n",
    "#                                batch_size=32,\n",
    "#                                callbacks=policy_callbacks)\n",
    "        \n",
    "v_model.save('rule_based_v')"
   ]
  },
  {
   "cell_type": "code",
   "execution_count": null,
   "metadata": {},
   "outputs": [],
   "source": []
  }
 ],
 "metadata": {
  "kernelspec": {
   "display_name": "Python 3",
   "language": "python",
   "name": "python3"
  },
  "language_info": {
   "codemirror_mode": {
    "name": "ipython",
    "version": 3
   },
   "file_extension": ".py",
   "mimetype": "text/x-python",
   "name": "python",
   "nbconvert_exporter": "python",
   "pygments_lexer": "ipython3",
   "version": "3.8.5"
  }
 },
 "nbformat": 4,
 "nbformat_minor": 4
}
