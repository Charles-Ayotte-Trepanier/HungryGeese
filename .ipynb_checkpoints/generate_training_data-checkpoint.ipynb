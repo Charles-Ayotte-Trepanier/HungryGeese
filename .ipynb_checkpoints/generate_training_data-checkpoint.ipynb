{
 "cells": [
  {
   "cell_type": "code",
   "execution_count": 1,
   "metadata": {
    "scrolled": true
   },
   "outputs": [
    {
     "name": "stdout",
     "output_type": "stream",
     "text": [
      "Loading environment football failed: No module named 'gfootball'\n"
     ]
    }
   ],
   "source": [
    "from helpers import *"
   ]
  },
  {
   "cell_type": "code",
   "execution_count": 2,
   "metadata": {},
   "outputs": [],
   "source": [
    "from agents.rule_based_agent import RuleBasedAgent\n",
    "from agents.greedy_agent import GreedyAgent"
   ]
  },
  {
   "cell_type": "code",
   "execution_count": 3,
   "metadata": {},
   "outputs": [],
   "source": [
    "env = make(\"hungry_geese\", debug=True)\n",
    "config = env.configuration"
   ]
  },
  {
   "cell_type": "code",
   "execution_count": 4,
   "metadata": {},
   "outputs": [],
   "source": [
    "step_reward = 1\n",
    "winning_reward = 10\n",
    "losing_reward = -10\n",
    "discount = 0.8\n",
    "\n",
    "\n",
    "def discounted(discount_factor, nb_steps, step_reward):\n",
    "    discounted_reward = 0\n",
    "    for _ in range(int(nb_steps)):\n",
    "        discounted_reward = step_reward + discount_factor*discounted_reward\n",
    "    return discounted_reward\n",
    "\n",
    "step_200_reward = lambda my_goose, longuest_opponent: winning_reward if my_goose > longuest_opponent else 3*losing_reward\n",
    "win_game_reward = lambda step, my_goose, longuest_opponent: winning_reward + discounted(discount, 200-step, step_reward) #max((200-step), winning_reward)\n",
    "\n",
    "discount = 0.85\n",
    "\n",
    "nb_opponents = 3\n",
    "\n",
    "steps_per_ep = 200\n",
    "num_episodes = 1000\n",
    "nb_files = 100"
   ]
  },
  {
   "cell_type": "code",
   "execution_count": 5,
   "metadata": {},
   "outputs": [
    {
     "name": "stdout",
     "output_type": "stream",
     "text": [
      "starting iteration 0\n",
      "episode number:  0\n",
      "Goose Collision: SOUTH\n",
      "Goose Collision: NORTH\n",
      "episode number:  1\n",
      "Goose Collision: NORTH\n",
      "episode number:  2\n",
      "Goose Collision: EAST\n",
      "Goose Collision: NORTH\n",
      "Goose Collision: SOUTH\n",
      "episode number:  3\n",
      "Body Hit: (2, <Action.NORTH: 1>, 49, [60, 59, 48, 49])\n",
      "Body Hit: (0, <Action.SOUTH: 3>, 60, [49, 38, 27, 28, 39, 50, 61, 60, 59, 48, 37])\n",
      "episode number:  4\n",
      "Goose Collision: WEST\n",
      "Goose Collision: NORTH\n",
      "Body Hit: (0, <Action.EAST: 2>, 48, [47, 46, 45, 44, 33, 34, 35, 36, 37, 48, 59, 58])\n",
      "episode number:  5\n",
      "Body Hit: (0, <Action.WEST: 4>, 22, [23, 34, 45, 56, 55, 44, 33, 22, 32, 21, 20, 31])\n",
      "episode number:  6\n",
      "Body Hit: (1, <Action.SOUTH: 3>, 15, [4, 70, 59, 48, 37, 26, 15, 16])\n",
      "Body Hit: (3, <Action.WEST: 4>, 5, [6, 7, 8, 74, 73, 72, 71, 5, 16, 17, 18, 19, 20])\n",
      "Body Hit: (2, <Action.NORTH: 1>, 21, [32, 43, 42, 31, 20, 21, 11, 22, 23, 34, 45])\n",
      "episode number:  7\n",
      "Body Hit: (3, <Action.SOUTH: 3>, 41, [30, 29, 40, 41, 42, 31, 32, 43, 33])\n",
      "episode number:  8\n",
      "Goose Collision: WEST\n",
      "Goose Collision: NORTH\n",
      "Goose Collision: SOUTH\n",
      "episode number:  9\n",
      "Goose Collision: NORTH\n"
     ]
    }
   ],
   "source": [
    "for it in range(23, nb_files):\n",
    "    print(f'starting iteration {it}')\n",
    "    name = f'it_{it}_v2.pkl'\n",
    "    episodes = []\n",
    "    for ep in range(num_episodes):\n",
    "        print('episode number: ', ep)\n",
    "        steps = []\n",
    "        my_agent = RuleBasedAgent()\n",
    "        agents =  [my_agent] + [(RuleBasedAgent() if np.random.rand()<1 else GreedyAgent()) for _ in range(nb_opponents)]\n",
    "        state_dict = env.reset(num_agents=nb_opponents + 1)[0]\n",
    "        observation = state_dict['observation']\n",
    "        my_goose_ind = observation['index']\n",
    "\n",
    "        reward = state_dict['reward']\n",
    "        action = state_dict['action']\n",
    "\n",
    "\n",
    "\n",
    "        done = False\n",
    "        for step in range(1, steps_per_ep):\n",
    "            actions = []\n",
    "\n",
    "            for i, agent in enumerate(agents):\n",
    "                obs = deepcopy(observation)\n",
    "                obs['index'] = i\n",
    "                action = agent(obs, config)\n",
    "                actions.append(action)\n",
    "\n",
    "            state_dict = env.step(actions)[0]\n",
    "            observation = state_dict['observation']\n",
    "            my_goose_ind = observation['index']\n",
    "\n",
    "            my_goose_length = len(observation['geese'][my_goose_ind])\n",
    "\n",
    "            longuest_opponent=0\n",
    "            for i, goose in enumerate(observation.geese):\n",
    "                if i != my_goose_ind:\n",
    "                    opponent_length = len(goose)\n",
    "                    if opponent_length > longuest_opponent:\n",
    "                        longuest_opponent = opponent_length\n",
    "\n",
    "            #new_state, _, _ = agent.getStateSpace(observation, config)\n",
    "\n",
    "            #reward = state_dict['reward']\n",
    "            action = state_dict['action']\n",
    "            status = state_dict['status']\n",
    "\n",
    "            if status != \"ACTIVE\":\n",
    "                done = True\n",
    "\n",
    "            # Check if my goose died\n",
    "            if my_goose_length == 0:\n",
    "                done = True\n",
    "                reward = losing_reward\n",
    "            elif (step+1) == steps_per_ep:\n",
    "                reward = step_200_reward(my_goose_length, longuest_opponent)\n",
    "                done = True\n",
    "            elif status != \"ACTIVE\":\n",
    "                reward = win_game_reward(step, my_goose_length, longuest_opponent)\n",
    "            else:\n",
    "                reward = step_reward\n",
    "\n",
    "            steps.append({'cur_state': my_agent.stateSpace,\n",
    "                                    'action': action,\n",
    "                                    'reward': reward,\n",
    "                                    'new_state': '',#new_state,\n",
    "                                    'status': status,\n",
    "                                    'done': done})\n",
    "            if done:\n",
    "#                 print('Done, Step: ', step+1)\n",
    "#                 print('status, ', status)\n",
    "                break\n",
    "\n",
    "            if step%50 == 0:\n",
    "                pass\n",
    "                #print(f'We survived {step+1} steps')\n",
    "        episodes.append(steps)\n",
    "    process(discount, episodes)\n",
    "    train_data = training_data(episodes)\n",
    "    with open(f'/home/charles/PycharmProjects/HungryGeese/data/{name}', 'wb') as f:\n",
    "        pickle.dump(train_data, f)"
   ]
  },
  {
   "cell_type": "code",
   "execution_count": null,
   "metadata": {},
   "outputs": [],
   "source": []
  }
 ],
 "metadata": {
  "kernelspec": {
   "display_name": "Python 3",
   "language": "python",
   "name": "python3"
  },
  "language_info": {
   "codemirror_mode": {
    "name": "ipython",
    "version": 3
   },
   "file_extension": ".py",
   "mimetype": "text/x-python",
   "name": "python",
   "nbconvert_exporter": "python",
   "pygments_lexer": "ipython3",
   "version": "3.8.5"
  }
 },
 "nbformat": 4,
 "nbformat_minor": 4
}
