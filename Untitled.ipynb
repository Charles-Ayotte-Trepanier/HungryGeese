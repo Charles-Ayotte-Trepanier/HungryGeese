{
 "cells": [
  {
   "cell_type": "code",
   "execution_count": 1,
   "metadata": {},
   "outputs": [
    {
     "name": "stdout",
     "output_type": "stream",
     "text": [
      "Loading environment football failed: No module named 'gfootball'\n"
     ]
    }
   ],
   "source": [
    "import numpy as np\n",
    "from kaggle_environments.envs.hungry_geese.hungry_geese import Action\n",
    "\n",
    "actions_dict = {\n",
    "    Action.WEST.name: 0,\n",
    "    Action.EAST.name: 1,\n",
    "    Action.NORTH.name: 2,\n",
    "    Action.SOUTH.name: 3,\n",
    "}\n",
    "\n",
    "actions_dict_invert = {v: k for k, v in actions_dict.items()}\n",
    "actions_list = [actions_dict_invert[i] for i in range(4)]\n",
    "\n",
    "\n",
    "def action_to_target(action):\n",
    "    pos = actions_dict[action]\n",
    "    target = np.zeros(4)\n",
    "    target[pos] = 1\n",
    "    return target\n",
    "\n",
    "\n",
    "def target_to_action(target):\n",
    "    pos = np.argmax(target)\n",
    "    return actions_list[pos]\n",
    "\n",
    "\n",
    "def softmax(x):\n",
    "    z = x - np.max(x)\n",
    "    return np.exp(z) / np.sum(np.exp(z))\n",
    "\n",
    "\n",
    "def pred_to_action(pred, logit=True):\n",
    "    if logit:\n",
    "        pred = softmax(pred)\n",
    "    pos = np.argmax(np.random.multinomial(1, pred))\n",
    "    return actions_list[pos]\n",
    "\n",
    "\n",
    "def pred_to_action_greedy(pred):\n",
    "    pos = np.argmax(pred)\n",
    "    return actions_list[pos]\n"
   ]
  },
  {
   "cell_type": "code",
   "execution_count": 2,
   "metadata": {},
   "outputs": [],
   "source": [
    "from kaggle_environments.envs.hungry_geese.hungry_geese import row_col, Observation, Action\n",
    "import numpy as np\n",
    "\n",
    "def get_encoding(part, food_vector):\n",
    "    encodings = {\n",
    "        'head': 1,\n",
    "        'body': 2,\n",
    "        'tail': 3,\n",
    "        'food': 4\n",
    "    }\n",
    "\n",
    "    if food_vector:\n",
    "        encodings['food'] = 0\n",
    "    return encodings[part]\n",
    "\n",
    "\n",
    "def goose_encodings(position, goose_length, food_vector):\n",
    "\n",
    "    if position == 0:\n",
    "        part = 'head'\n",
    "    elif position == goose_length - 1:\n",
    "        part = 'tail'\n",
    "    else:\n",
    "        part = 'body'\n",
    "    return get_encoding(part, food_vector)\n",
    "\n",
    "def get_coordinate(position):\n",
    "    return row_col(position, 11)\n",
    "\n",
    "\n",
    "def create_mapping(head_position):\n",
    "    player_row, player_column = get_coordinate(head_position)\n",
    "\n",
    "    def centralize(row, col):\n",
    "        if col > player_column:\n",
    "            new_col = (5 + col - player_column) % 11\n",
    "        else:\n",
    "            new_col = 5 - (player_column - col)\n",
    "            if new_col < 0:\n",
    "                new_col += 11\n",
    "\n",
    "        if row > player_row:\n",
    "            new_row = (3 + row - player_row) % 7\n",
    "        else:\n",
    "            new_row = 3 - (player_row - row)\n",
    "            if new_row < 0:\n",
    "                new_row += 7\n",
    "        return new_row, new_col\n",
    "\n",
    "    position_dict = {}\n",
    "    for pos in range(7*11):\n",
    "        i, j = get_coordinate(pos)\n",
    "        position_dict[pos] = centralize(i, j)\n",
    "\n",
    "    return position_dict\n",
    "\n",
    "\n",
    "class StateSpace:\n",
    "    def __init__(self):\n",
    "        self._mapping = self.generate_mappings()\n",
    "\n",
    "    @staticmethod\n",
    "    def generate_mappings():\n",
    "        mapping = {}\n",
    "        for head in range(7*11):\n",
    "            mapping[head] = create_mapping(head)\n",
    "        return mapping\n",
    "\n",
    "    def get_position(self, reference, other):\n",
    "        return self._mapping[reference][other]\n",
    "\n",
    "\n",
    "class FeaturesCreator:\n",
    "    def __init__(self):\n",
    "        self.get_position = StateSpace().get_position\n",
    "\n",
    "    def get_features(self, obs_dict, last_action, board_size=0, food_vector=True):\n",
    "        forbidden_action_vector = self._get_forbidden_action(last_action)\n",
    "        if board_size > 0:\n",
    "            board = self._get_board_sections(obs_dict, board_size, food_vector)\n",
    "        else:\n",
    "            board = np.array([])\n",
    "\n",
    "        if food_vector:\n",
    "            food_features = self._get_food_features(obs_dict)\n",
    "        else:\n",
    "            food_features = np.array([])\n",
    "\n",
    "        return board, forbidden_action_vector, food_features\n",
    "\n",
    "    def _get_last_action(self, last_action):\n",
    "        actions = np.zeros(4)\n",
    "        actions[actions_dict[last_action]] = 1\n",
    "        return actions\n",
    "\n",
    "    def _get_forbidden_action(self, last_action):\n",
    "        actions = np.zeros(4)\n",
    "        if last_action == 'NORTH':\n",
    "            forbidden_action = 'SOUTH'\n",
    "        if last_action == 'SOUTH':\n",
    "            forbidden_action = 'NORTH'\n",
    "        if last_action == 'WEST':\n",
    "            forbidden_action = 'EAST'\n",
    "        if last_action == 'EAST':\n",
    "            forbidden_action = 'WEST'\n",
    "        actions[actions_dict[forbidden_action]] = 1\n",
    "        return actions\n",
    "\n",
    "    def _get_food_features(self, obs_dict):\n",
    "        observation = Observation(obs_dict)\n",
    "        player_index = observation.index\n",
    "        player_goose = observation.geese[player_index]\n",
    "        player_head = player_goose[0]\n",
    "        food_positions = observation.food\n",
    "\n",
    "        if len(food_positions) == 2:\n",
    "            food1_row, food1_column = self.get_position(player_head, food_positions[0])\n",
    "            food2_row, food2_column = self.get_position(player_head, food_positions[1])\n",
    "        elif len(food_positions) == 1:\n",
    "            food1_row, food1_column = self.get_position(player_head, food_positions[0])\n",
    "            food2_row, food2_column = self.get_position(player_head, player_head)\n",
    "        elif len(food_positions) == 0:\n",
    "            food1_row, food1_column = self.get_position(player_head, player_head)\n",
    "            food2_row, food2_column = self.get_position(player_head, player_head)\n",
    "\n",
    "        if food1_row != 3:\n",
    "            food1_row_feat = 1.0/float(food1_row - 3)\n",
    "        else:\n",
    "            food1_row_feat = 0\n",
    "        if food2_row != 3:\n",
    "            food2_row_feat = 1.0/float(food2_row - 3)\n",
    "        else:\n",
    "            food2_row_feat = 0\n",
    "        if food1_column != 5:\n",
    "            food1_col_feat = 1.0/float(food1_column - 5)\n",
    "        else:\n",
    "            food1_col_feat = 0\n",
    "        if food2_column != 5:\n",
    "            food2_col_feat = 1.0 / float(food2_column - 5)\n",
    "        else:\n",
    "            food2_col_feat = 0\n",
    "\n",
    "        # Prioritize food that is closer\n",
    "        if (abs(food1_row_feat) + abs(food1_col_feat)) <= (\n",
    "                abs(food2_row_feat) + abs(food2_col_feat)):\n",
    "            p1_food_row_feat = food1_row_feat\n",
    "            p1_food_col_feat = food1_col_feat\n",
    "            p2_food_row_feat = food2_row_feat\n",
    "            p2_food_col_feat = food2_col_feat\n",
    "        else:\n",
    "            p1_food_row_feat = food2_row_feat\n",
    "            p1_food_col_feat = food2_col_feat\n",
    "            p2_food_row_feat = food1_row_feat\n",
    "            p2_food_col_feat = food1_col_feat\n",
    "\n",
    "        return np.array([p1_food_row_feat, p1_food_col_feat, p2_food_row_feat, p2_food_col_feat])\n",
    "\n",
    "    def _get_board_sections(self, obs_dict, size, food_vector):\n",
    "        board = self._get_board(obs_dict, food_vector)\n",
    "        if size == 1:\n",
    "            top = board[2:3, 4:7].reshape(-1)\n",
    "            right = board[2:5, 6:7].reshape(-1)\n",
    "            bottom = board[4:5, 6:3:-1].reshape(-1)\n",
    "            left = board[4:1:-1, 4:5].reshape(-1)\n",
    "            far_right = None\n",
    "            far_left = None\n",
    "        if size == 2:\n",
    "            top = board[1:3, 3:8].reshape(-1)\n",
    "            right = board[1:6, 7:5:-1].T.reshape(-1)\n",
    "            bottom = board[5:3:-1, 7:2:-1].reshape(-1)\n",
    "            left = board[5:0:-1, 3:5].T.reshape(-1)\n",
    "            far_right = None\n",
    "            far_left = None\n",
    "        if size == 3:\n",
    "            top = board[0:3, 2:9].reshape(-1)\n",
    "            right = board[0:7, 8:5:-1].T.reshape(-1)\n",
    "            bottom = board[6:3:-1, 8:1:-1].reshape(-1)\n",
    "            left = board[np.array([6, 5, 4, 3, 2, 1, 0]), 2:5].T.reshape(-1)\n",
    "            far_right = None\n",
    "            far_left = None\n",
    "        if size == 4:\n",
    "            top = board[0:3, 2:9].reshape(-1)\n",
    "            right = board[0:7, 8:5:-1].T.reshape(-1)\n",
    "            bottom = board[6:3:-1, 8:1:-1].reshape(-1)\n",
    "            left = board[np.array([6, 5, 4, 3, 2, 1, 0]), 2:5].T.reshape(-1)\n",
    "            far_right = board[0:7, 10:8:-1].T.reshape(-1)\n",
    "            far_left = board[np.array([6, 5, 4, 3, 2, 1, 0]), 0:2].T.reshape(-1)\n",
    "        return top, right, bottom, left, far_right, far_left\n",
    "    # def _get_board_section(self, obs_dict, size, food_vector):\n",
    "    #     board = self._get_board(obs_dict, food_vector)\n",
    "    #     if size == 1:\n",
    "    #         features = board[2:5, 4:7].reshape(-1)\n",
    "    #     elif size == 2:\n",
    "    #         features = board[1:6, 3:8].reshape(-1)\n",
    "    #     elif size == 3:\n",
    "    #         features = board[:, 2:9].reshape(-1)\n",
    "    #     elif size == 4:\n",
    "    #         features = board.reshape(-1)\n",
    "    #\n",
    "    #     middle_index = int((len(features)-1)/2)\n",
    "    #     features = np.delete(features, [middle_index])\n",
    "    #\n",
    "    #     return features\n",
    "\n",
    "    def _get_board(self, obs_dict, food_vector):\n",
    "        board = np.zeros(7*11).reshape(7, 11)\n",
    "        observation = Observation(obs_dict)\n",
    "        player_index = observation.index\n",
    "        player_goose = observation.geese[player_index]\n",
    "        player_head = player_goose[0]\n",
    "\n",
    "        for goose in observation.geese:\n",
    "            cur_goose_length = len(goose)\n",
    "            for i, position in enumerate(goose):\n",
    "                coordinates = self.get_position(player_head, position)\n",
    "                value = goose_encodings(i, cur_goose_length, food_vector)\n",
    "                board[coordinates] = value\n",
    "\n",
    "        for food_pos in obs_dict['food']:\n",
    "            coordinates = self.get_position(player_head, food_pos)\n",
    "            value = get_encoding('food', food_vector)\n",
    "            board[coordinates] = value\n",
    "\n",
    "        return board\n",
    "\n",
    "fs = FeaturesCreator()\n",
    "\n",
    "def get_state_space(obs_dict, last_action, board_size=0, food_vector=True):\n",
    "    return fs.get_features(obs_dict, last_action, board_size, food_vector)"
   ]
  },
  {
   "cell_type": "code",
   "execution_count": 3,
   "metadata": {},
   "outputs": [],
   "source": [
    "from tensorflow.keras.layers import Dense, Input, Embedding, Flatten, concatenate\n",
    "from tensorflow.keras import Model, Sequential\n",
    "import tensorflow as tf\n",
    "from tensorflow.keras.constraints import non_neg, UnitNorm\n",
    "from utils.state_space import *\n",
    "from utils.helpers import pred_to_action, pred_to_action_greedy, target_to_action\n",
    "from tensorflow.python.framework.ops import disable_eager_execution\n",
    "\n",
    "import pickle\n",
    "disable_eager_execution()\n",
    "\n",
    "class ShortSightAgentNoFood:\n",
    "    \"\"\"\n",
    "    Baseline agent to test reinforce algorithm - state space is only the last action taken,\n",
    "    with the expectation that it will learn not to take opposite actions\n",
    "    \"\"\"\n",
    "\n",
    "    def __init__(self, greedy=False, learning_rate=0.01, entropy_reg=0):\n",
    "        self.last_action = ['NORTH', 'EAST', 'WEST', 'SOUTH'][np.random.randint(4)]\n",
    "        self.stateSpace = None\n",
    "        self.model = self._build_model(learning_rate, entropy_reg)\n",
    "        self.greedy = greedy\n",
    "\n",
    "    def getStateSpace(self, obs_dict, last_action):\n",
    "        self.last_action = last_action\n",
    "        board, forbidden_action, food_pos = get_state_space(obs_dict, self.last_action, 4, False)\n",
    "        return board, forbidden_action, food_pos\n",
    "\n",
    "    def _build_model(self, lr, entropy_reg):\n",
    "\n",
    "        forbidden_action = Input(shape=(4,))\n",
    "\n",
    "        norm_layer = UnitNorm(axis=1)\n",
    "        embedding = Embedding(5, 1, input_length=21, trainable=True)\n",
    "\n",
    "        top = Input(shape=(21,))\n",
    "        right = Input(shape=(21,))\n",
    "        bottom = Input(shape=(21,))\n",
    "        left = Input(shape=(21,))\n",
    "\n",
    "        far_right = Input(shape=(14,))\n",
    "        far_left = Input(shape=(14,))\n",
    "\n",
    "        common_linear = Dense(1, activation='linear', use_bias=False, trainable=True)\n",
    "\n",
    "        far_sides_linear = Dense(1, activation='linear', use_bias=False, trainable=True)\n",
    "        near_far_weighted = Dense(1, activation='linear', use_bias=False, trainable=True)\n",
    "        paddings = tf.constant([[0, 0, ], [0, 7]])\n",
    "\n",
    "        def far_sides(input):\n",
    "            out = tf.pad(input, paddings, \"CONSTANT\")\n",
    "            out = embedding(out)\n",
    "            out = norm_layer(out)\n",
    "            out = Flatten()(out)\n",
    "            out, _ = tf.split(out, [14, 7], 1)\n",
    "            out = far_sides_linear(out)\n",
    "            return out\n",
    "\n",
    "        def common_blocks(input):\n",
    "            out = embedding(input)\n",
    "            out = norm_layer(out)\n",
    "            out = Flatten()(out)\n",
    "            out = common_linear(out)\n",
    "            return out\n",
    "\n",
    "        def apply_side_layers(near, far):\n",
    "            out_near = common_blocks(near)\n",
    "            out_far = far_sides(far)\n",
    "            concat = concatenate([out_near, out_far])\n",
    "            out = near_far_weighted(concat)\n",
    "            return out\n",
    "\n",
    "        top_output = common_blocks(top)\n",
    "        right_output = apply_side_layers(right, far_right)\n",
    "        bottom_output = common_blocks(bottom)\n",
    "        left_output = apply_side_layers(left, far_left)\n",
    "\n",
    "        logits = concatenate([left_output, right_output, top_output, bottom_output])\n",
    "\n",
    "        inputs = [forbidden_action, top, right, bottom, left, far_right, far_left]\n",
    "\n",
    "        no_action = tf.math.multiply(forbidden_action, -10000)\n",
    "        pred = tf.math.add(logits, no_action)\n",
    "\n",
    "        G = Input(shape=(1, ))\n",
    "        G_input = [G]\n",
    "\n",
    "        def custom_loss(y_true, y_pred, G, numerical):\n",
    "            log_softmax = tf.math.log_softmax(y_pred, axis=1)\n",
    "            selected_action = tf.math.multiply(y_true, log_softmax)\n",
    "            selected_action_weighted = tf.math.multiply(selected_action, G)\n",
    "            # selected_action = tf.math.reduce_sum(tf.math.multiply(y_true, log_softmax), axis=1)\n",
    "            # selected_action_weighted = tf.math.multiply(tf.reshape(selected_action, [-1]),\n",
    "            #                                             tf.reshape(G, [-1]))\n",
    "            possible_actions = tf.ones(shape=tf.shape(numerical)) - numerical\n",
    "            softmax = tf.math.softmax(y_pred)\n",
    "            entropy = -tf.reduce_mean(tf.math.multiply(tf.math.multiply(log_softmax, softmax),\n",
    "                                                       possible_actions))\n",
    "            J = tf.math.reduce_mean(selected_action_weighted) + entropy_reg*entropy\n",
    "            l = -J\n",
    "            return l\n",
    "\n",
    "        def reinforce_loss(y_true, y_pred):\n",
    "            return custom_loss(y_true, y_pred, G, forbidden_action)\n",
    "\n",
    "        cur_loss = reinforce_loss\n",
    "\n",
    "        m = Model([inputs] + G_input, pred)\n",
    "\n",
    "        optimizer = tf.keras.optimizers.Adam(lr=lr)\n",
    "        m.compile(optimizer=optimizer,\n",
    "                  loss=cur_loss,\n",
    "                  metrics=[],\n",
    "                  experimental_run_tf_function=False)\n",
    "        return m\n",
    "\n",
    "    def fit(self, X, y, val_X, val_y, batch_size=32, epoch=10):\n",
    "        callback = tf.keras.callbacks.EarlyStopping(monitor='val_loss', patience=2)\n",
    "\n",
    "        self.model.fit(X,\n",
    "                       y,\n",
    "                       validation_data=(val_X, val_y) if len(val_X[0]) > 0 else None,\n",
    "                       epochs=epoch if len(val_X[0]) > 0 else epoch,\n",
    "                       batch_size=batch_size,\n",
    "                       callbacks=[callback] if len(val_X[0]) > 0 else None)\n",
    "\n",
    "    def save_weights(self, name):\n",
    "        path = f'/home/charles/PycharmProjects/HungryGeese/models/{name}_weights.pkl'\n",
    "        with open(path, 'wb') as f:\n",
    "            pickle.dump(self.model.get_weights(), f)\n",
    "\n",
    "    def load_weights(self, name):\n",
    "        path = f'/home/charles/PycharmProjects/HungryGeese/models/{name}_weights.pkl'\n",
    "        with open(path, 'rb') as f:\n",
    "            weights = pickle.load(f)\n",
    "        self.model.set_weights(weights)\n",
    "\n",
    "    def __call__(self, obs_dict, config_dict):\n",
    "        board, forbidden_action, food_pos = get_state_space(obs_dict, self.last_action, 4, False)\n",
    "\n",
    "        self.stateSpace = board, forbidden_action, food_pos\n",
    "\n",
    "        pred = self.model.predict([forbidden_action.reshape(-1, 4),\n",
    "                                   board[0].reshape(-1, 21),\n",
    "                                   board[1].reshape(-1, 21),\n",
    "                                   board[2].reshape(-1, 21),\n",
    "                                   board[3].reshape(-1, 21),\n",
    "                                   board[4].reshape(-1, 14),\n",
    "                                   board[5].reshape(-1, 14),\n",
    "                                   np.array([-1]).reshape(-1)])[0].astype('float64')\n",
    "        if self.greedy:\n",
    "            action = pred_to_action_greedy(pred)\n",
    "        else:\n",
    "            action = pred_to_action(pred)\n",
    "\n",
    "        self.last_action = action\n",
    "\n",
    "        return action\n"
   ]
  },
  {
   "cell_type": "code",
   "execution_count": 11,
   "metadata": {},
   "outputs": [],
   "source": [
    "board = np.array([np.random.randint(100) for _ in range(77)]).reshape(7,11)"
   ]
  },
  {
   "cell_type": "code",
   "execution_count": 30,
   "metadata": {},
   "outputs": [
    {
     "data": {
      "text/plain": [
       "array([[55, 25, 57, 17, 61, 35, 82, 88, 78, 32, 15],\n",
       "       [68, 81, 62, 31, 13, 77, 67, 12, 29, 14, 81],\n",
       "       [33, 89, 92, 56, 71, 66, 22, 65,  2, 60, 89],\n",
       "       [ 2, 15, 81, 96,  5,  7, 23, 98, 52, 80, 18],\n",
       "       [52, 16, 65, 17, 23, 72, 29, 29, 60, 24, 99],\n",
       "       [15, 33,  0, 13, 57, 96, 47,  9, 19, 14, 58],\n",
       "       [78, 40, 24, 37, 48, 44, 58, 39,  7, 28, 79]])"
      ]
     },
     "execution_count": 30,
     "metadata": {},
     "output_type": "execute_result"
    }
   ],
   "source": [
    "board"
   ]
  },
  {
   "cell_type": "code",
   "execution_count": 25,
   "metadata": {},
   "outputs": [],
   "source": [
    "top = np.vstack((board[5:7, 2:9], board[0:3, 2:9]))\n",
    "right = board[0:7, 10:5:-1].T\n",
    "bottom = np.vstack((board[np.array([1, 0]), 8:1:-1], board[6:3:-1, 8:1:-1]))\n",
    "left = board[np.array([6, 5, 4, 3, 2, 1, 0]), 0:5].T"
   ]
  },
  {
   "cell_type": "code",
   "execution_count": 27,
   "metadata": {},
   "outputs": [],
   "source": [
    "size=4"
   ]
  },
  {
   "cell_type": "code",
   "execution_count": 79,
   "metadata": {},
   "outputs": [],
   "source": [
    "if size == 4:\n",
    "    top = np.vstack((board[6:7, 2:9], board[0:3, 2:9]))\n",
    "    right = board[0:7, 9:5:-1].T\n",
    "    bottom = np.vstack((board[0, 8:1:-1], board[6:3:-1, 8:1:-1]))\n",
    "    left = board[np.array([6, 5, 4, 3, 2, 1, 0]), 1:5].T\n",
    "if size == 5:\n",
    "    top = np.vstack((board[5:7, 2:9], board[0:3, 2:9]))\n",
    "    right = board[0:7, 10:5:-1].T\n",
    "    bottom = np.vstack((board[np.array([1, 0]), 8:1:-1], board[6:3:-1, 8:1:-1]))\n",
    "    left = board[np.array([6, 5, 4, 3, 2, 1, 0]), 0:5].T"
   ]
  },
  {
   "cell_type": "code",
   "execution_count": 80,
   "metadata": {},
   "outputs": [
    {
     "data": {
      "text/plain": [
       "array([[32, 14, 60, 80, 24, 14, 28],\n",
       "       [78, 29,  2, 52, 60, 19,  7],\n",
       "       [88, 12, 65, 98, 29,  9, 39],\n",
       "       [82, 67, 22, 23, 29, 47, 58]])"
      ]
     },
     "execution_count": 80,
     "metadata": {},
     "output_type": "execute_result"
    }
   ],
   "source": [
    "right.reshape"
   ]
  },
  {
   "cell_type": "code",
   "execution_count": 81,
   "metadata": {},
   "outputs": [
    {
     "data": {
      "text/plain": [
       "array([[32, 14, 60, 80, 24, 14, 28, 78, 29,  2, 52, 60, 19,  7, 88, 12,\n",
       "        65, 98, 29,  9, 39, 82, 67, 22, 23, 29, 47, 58]])"
      ]
     },
     "execution_count": 81,
     "metadata": {},
     "output_type": "execute_result"
    }
   ],
   "source": [
    "right.reshape(-1,28)"
   ]
  },
  {
   "cell_type": "code",
   "execution_count": 50,
   "metadata": {},
   "outputs": [
    {
     "data": {
      "text/plain": [
       "array([[[24],\n",
       "        [37],\n",
       "        [48],\n",
       "        [44],\n",
       "        [58],\n",
       "        [39],\n",
       "        [ 7]],\n",
       "\n",
       "       [[57],\n",
       "        [17],\n",
       "        [61],\n",
       "        [35],\n",
       "        [82],\n",
       "        [88],\n",
       "        [78]],\n",
       "\n",
       "       [[62],\n",
       "        [31],\n",
       "        [13],\n",
       "        [77],\n",
       "        [67],\n",
       "        [12],\n",
       "        [29]],\n",
       "\n",
       "       [[92],\n",
       "        [56],\n",
       "        [71],\n",
       "        [66],\n",
       "        [22],\n",
       "        [65],\n",
       "        [ 2]]])"
      ]
     },
     "execution_count": 50,
     "metadata": {},
     "output_type": "execute_result"
    }
   ],
   "source": [
    "top.reshape(top.shape+(1,))"
   ]
  },
  {
   "cell_type": "code",
   "execution_count": 49,
   "metadata": {},
   "outputs": [
    {
     "data": {
      "text/plain": [
       "(4, 7, 1)"
      ]
     },
     "execution_count": 49,
     "metadata": {},
     "output_type": "execute_result"
    }
   ],
   "source": [
    "top.shape+(1,)"
   ]
  },
  {
   "cell_type": "code",
   "execution_count": 4,
   "metadata": {},
   "outputs": [],
   "source": [
    "serialized = b'(lp0\\ncnumpy.core.multiarray\\n_reconstruct\\np1\\n(cnumpy\\nndarray\\np2\\n(I0\\ntp3\\nc_codecs\\nencode\\np4\\n(Vb\\np5\\nVlatin1\\np6\\ntp7\\nRp8\\ntp9\\nRp10\\n(I1\\n(I5\\nI1\\ntp11\\ncnumpy\\ndtype\\np12\\n(Vf4\\np13\\nI00\\nI01\\ntp14\\nRp15\\n(I3\\nV<\\np16\\nNNNI-1\\nI-1\\nI0\\ntp17\\nbI00\\ng4\\n(V\\xef\\xb3\\xb5>\\x0e\\xa0v\\xc0\\xde\\xee\\xb4\\xbf\\xb6~\\x07\\xc0-<O@\\np18\\ng6\\ntp19\\nRp20\\ntp21\\nbag1\\n(g2\\n(I0\\ntp22\\ng8\\ntp23\\nRp24\\n(I1\\n(I21\\nI1\\ntp25\\ng15\\nI00\\ng4\\n(V36\\x98\\xbe\\x08\\xa1u\\xbeF\\xa0\\x12@\\xde\\xc7\\xa7>\\xd1\\xd0\\x15@\\x18s\\xba>\\x87X\\xaf\\xbf\\x02\\xbc\\xaa\\xbf\\x01\\x17\\xd1?\\xba\\xb0\\xf4?\\xba\\xee\\xcd@z\\x91g?\\xfe\\xd8\\x17@\\x02\\xea\\x95\\xbf\\xb4Y\\x0e?\\xf62\\x90?\\xea\\xa9\\xa3@\\xd1\\xdd\\x03AnS\\xb2@\\x1e\\xc6\\x8d><St\\xbf\\np26\\ng6\\ntp27\\nRp28\\ntp29\\nbag1\\n(g2\\n(I0\\ntp30\\ng8\\ntp31\\nRp32\\n(I1\\n(I14\\nI1\\ntp33\\ng15\\nI00\\ng4\\n(Vq\\xc2\\x02\\xbf\\x81\\x8b\\xad>}\\x82z?\\xddY\\x1f\\xbeLh\\xc2\\xbeA_%\\xbf{tX>\\x7f\\x05\\x0c\\xbf\\xd7\\xc8\\x17\\xbf\\xa7\\xa3\\xa8>(\\\\u000d\\xfc>\\xe3\\x80d\\xbf*\\x92B?\\x1e`\\xb0>\\np34\\ng6\\ntp35\\nRp36\\ntp37\\nbag1\\n(g2\\n(I0\\ntp38\\ng8\\ntp39\\nRp40\\n(I1\\n(I2\\nI1\\ntp41\\ng15\\nI00\\ng4\\n(V<\\xd4\\x90?\\x1d\\xb2D\\xbe\\np42\\ng6\\ntp43\\nRp44\\ntp45\\nba.'"
   ]
  },
  {
   "cell_type": "code",
   "execution_count": 5,
   "metadata": {},
   "outputs": [],
   "source": [
    "serialized = b'(lp0\\ncnumpy.core.multiarray\\n_reconstruct\\np1\\n(cnumpy\\nndarray\\np2\\n(I0\\ntp3\\nc_codecs\\nencode\\np4\\n(Vb\\np5\\nVlatin1\\np6\\ntp7\\nRp8\\ntp9\\nRp10\\n(I1\\n(I5\\nI1\\ntp11\\ncnumpy\\ndtype\\np12\\n(Vf4\\np13\\nI00\\nI01\\ntp14\\nRp15\\n(I3\\nV<\\np16\\nNNNI-1\\nI-1\\nI0\\ntp17\\nbI00\\ng4\\n(V\\xef\\xb3\\xb5>\\x0e\\xa0v\\xc0\\xde\\xee\\xb4\\xbf\\xb6~\\x07\\xc0-<O@\\np18\\ng6\\ntp19\\nRp20\\ntp21\\nbag1\\n(g2\\n(I0\\ntp22\\ng8\\ntp23\\nRp24\\n(I1\\n(I21\\nI1\\ntp25\\ng15\\nI00\\ng4\\n(V36\\x98\\xbe\\x08\\xa1u\\xbeF\\xa0\\x12@\\xde\\xc7\\xa7>\\xd1\\xd0\\x15@\\x18s\\xba>\\x87X\\xaf\\xbf\\x02\\xbc\\xaa\\xbf\\x01\\x17\\xd1?\\xba\\xb0\\xf4?\\xba\\xee\\xcd@z\\x91g?\\xfe\\xd8\\x17@\\x02\\xea\\x95\\xbf\\xb4Y\\x0e?\\xf62\\x90?\\xea\\xa9\\xa3@\\xd1\\xdd\\x03AnS\\xb2@\\x1e\\xc6\\x8d><St\\xbf\\np26\\ng6\\ntp27\\nRp28\\ntp29\\nbag1\\n(g2\\n(I0\\ntp30\\ng8\\ntp31\\nRp32\\n(I1\\n(I14\\nI1\\ntp33\\ng15\\nI00\\ng4\\n(Vq\\xc2\\x02\\xbf\\x81\\x8b\\xad>}\\x82z?\\xddY\\x1f\\xbeLh\\xc2\\xbeA_%\\xbf{tX>\\x7f\\x05\\x0c\\xbf\\xd7\\xc8\\x17\\xbf\\xa7\\xa3\\xa8>(\\\\u000d\\xfc>\\xe3\\x80d\\xbf*\\x92B?\\x1e`\\xb0>\\np34\\ng6\\ntp35\\nRp36\\ntp37\\nbag1\\n(g2\\n(I0\\ntp38\\ng8\\ntp39\\nRp40\\n(I1\\n(I2\\nI1\\ntp41\\ng15\\nI00\\ng4\\n(V<\\xd4\\x90?\\x1d\\xb2D\\xbe\\np42\\ng6\\ntp43\\nRp44\\ntp45\\nba.'\n",
    "weights = pickle.loads(serialized)\n",
    "my_agent = ShortSightAgentNoFood(greedy=True)\n",
    "my_agent.model.set_weights(weights)\n",
    "\n",
    "def agent(obs_dict, config_dict):\n",
    "    return my_agent(obs_dict, config_dict)\n"
   ]
  },
  {
   "cell_type": "code",
   "execution_count": 6,
   "metadata": {},
   "outputs": [],
   "source": [
    "my_agent = ShortSightAgentNoFood(greedy=True)"
   ]
  },
  {
   "cell_type": "code",
   "execution_count": 7,
   "metadata": {},
   "outputs": [],
   "source": [
    "agent.model.set_weights(weights)"
   ]
  },
  {
   "cell_type": "code",
   "execution_count": 51,
   "metadata": {},
   "outputs": [],
   "source": [
    "from tensorflow.keras.layers import Dense, Input, Embedding, Flatten, concatenate, Conv2D\n",
    "from tensorflow.keras import Model, Sequential\n",
    "import tensorflow as tf\n",
    "from tensorflow.keras.constraints import non_neg, UnitNorm\n",
    "from utils.state_space import *\n",
    "from utils.helpers import pred_to_action, pred_to_action_greedy, target_to_action\n",
    "from tensorflow.python.framework.ops import disable_eager_execution\n",
    "\n",
    "import pickle"
   ]
  },
  {
   "cell_type": "code",
   "execution_count": 58,
   "metadata": {},
   "outputs": [],
   "source": [
    "lr=1\n",
    "entropy_reg = 0"
   ]
  },
  {
   "cell_type": "code",
   "execution_count": 73,
   "metadata": {},
   "outputs": [],
   "source": [
    "forbidden_action = Input(shape=(4,))\n",
    "bodies = Input(shape=(4,))\n",
    "\n",
    "norm_layer = UnitNorm(axis=1)\n",
    "embedding = Embedding(5, 1, input_length=21, trainable=False)\n",
    "\n",
    "top = Input(shape=(21,))\n",
    "right = Input(shape=(21,))\n",
    "bottom = Input(shape=(21,))\n",
    "left = Input(shape=(21,))\n",
    "\n",
    "cnn1 = Conv2D(1, 2, activation='elu')\n",
    "cnn2 = Conv2D(1, 2, activation='elu')\n",
    "common_linear = Dense(1, activation='linear', use_bias=False, trainable=True)\n",
    "\n",
    "def common_blocks(input):\n",
    "    out = embedding(input)\n",
    "    out = norm_layer(out)\n",
    "    out = Flatten()(out)\n",
    "    out = tf.reshape(out, [-1, 3, 7, 1])\n",
    "    out = cnn1(out)\n",
    "    out = cnn2(out)\n",
    "    out = Flatten()(out)\n",
    "    out = common_linear(out)\n",
    "    return out\n",
    "\n",
    "top_output = common_blocks(top)\n",
    "right_output = common_blocks(right)\n",
    "bottom_output = common_blocks(bottom)\n",
    "left_output = common_blocks(left)\n",
    "\n",
    "logits = concatenate([left_output, right_output, top_output, bottom_output])\n",
    "\n",
    "inputs = [forbidden_action, top, right, bottom, left, bodies]\n",
    "\n",
    "no_action = tf.math.multiply(forbidden_action, -10000)\n",
    "no_action2 = tf.math.multiply(bodies, -10000)\n",
    "pred = tf.math.add(logits, no_action)\n",
    "pred = tf.math.add(pred, no_action2)\n",
    "\n",
    "G = Input(shape=(1, ))\n",
    "G_input = [G]\n",
    "\n",
    "def custom_loss(y_true, y_pred, G, forbidden_action, bodies):\n",
    "    log_softmax = tf.math.log_softmax(y_pred, axis=1)\n",
    "    selected_action = tf.math.multiply(y_true, log_softmax)\n",
    "    selected_action_weighted = tf.math.multiply(selected_action, G)\n",
    "    # selected_action = tf.math.reduce_sum(tf.math.multiply(y_true, log_softmax), axis=1)\n",
    "    # selected_action_weighted = tf.math.multiply(tf.reshape(selected_action, [-1]),\n",
    "    #                                             tf.reshape(G, [-1]))\n",
    "    no_go = tf.math.maximum(forbidden_action, bodies)\n",
    "    possible_actions = tf.ones(shape=tf.shape(forbidden_action)) - no_go\n",
    "    softmax = tf.math.softmax(y_pred)\n",
    "    entropy = -tf.reduce_mean(tf.math.multiply(tf.math.multiply(log_softmax, softmax),\n",
    "                                               possible_actions))\n",
    "    J = tf.math.reduce_mean(selected_action_weighted) + entropy_reg*entropy\n",
    "    l = -J\n",
    "    return l\n",
    "\n",
    "def reinforce_loss(y_true, y_pred):\n",
    "    return custom_loss(y_true, y_pred, G, forbidden_action, bodies)\n",
    "\n",
    "cur_loss = reinforce_loss\n",
    "\n",
    "m = Model([inputs] + G_input, pred)\n",
    "\n",
    "optimizer = tf.keras.optimizers.Adam(lr=lr)\n",
    "m.compile(optimizer=optimizer,\n",
    "          loss=cur_loss,\n",
    "          metrics=[],\n",
    "          experimental_run_tf_function=False)"
   ]
  },
  {
   "cell_type": "code",
   "execution_count": 90,
   "metadata": {},
   "outputs": [],
   "source": [
    "a = np.array([1,0,0,0]).reshape(-1,4)\n",
    "v = np.array([np.random.rand() for _ in range(35)]).reshape(-1, 35)\n",
    "g = np.array([1]).reshape(-1,1)\n",
    "\n",
    "p = [a, v,v,v,v, a, g]\n"
   ]
  },
  {
   "cell_type": "code",
   "execution_count": 75,
   "metadata": {},
   "outputs": [
    {
     "data": {
      "text/plain": [
       "[array([[1, 0, 0, 0]]),\n",
       " array([[0.71446369, 0.39517375, 0.45905594, 0.86434721, 0.40814601,\n",
       "         0.74938032, 0.28287137, 0.03830891, 0.29789231, 0.86306016,\n",
       "         0.66753112, 0.57576572, 0.61671888, 0.32401829, 0.50582477,\n",
       "         0.42099922, 0.88831475, 0.73236435, 0.87579675, 0.93778372,\n",
       "         0.03064927]]),\n",
       " array([[0.71446369, 0.39517375, 0.45905594, 0.86434721, 0.40814601,\n",
       "         0.74938032, 0.28287137, 0.03830891, 0.29789231, 0.86306016,\n",
       "         0.66753112, 0.57576572, 0.61671888, 0.32401829, 0.50582477,\n",
       "         0.42099922, 0.88831475, 0.73236435, 0.87579675, 0.93778372,\n",
       "         0.03064927]]),\n",
       " array([[0.71446369, 0.39517375, 0.45905594, 0.86434721, 0.40814601,\n",
       "         0.74938032, 0.28287137, 0.03830891, 0.29789231, 0.86306016,\n",
       "         0.66753112, 0.57576572, 0.61671888, 0.32401829, 0.50582477,\n",
       "         0.42099922, 0.88831475, 0.73236435, 0.87579675, 0.93778372,\n",
       "         0.03064927]]),\n",
       " array([[0.71446369, 0.39517375, 0.45905594, 0.86434721, 0.40814601,\n",
       "         0.74938032, 0.28287137, 0.03830891, 0.29789231, 0.86306016,\n",
       "         0.66753112, 0.57576572, 0.61671888, 0.32401829, 0.50582477,\n",
       "         0.42099922, 0.88831475, 0.73236435, 0.87579675, 0.93778372,\n",
       "         0.03064927]]),\n",
       " array([[1, 0, 0, 0]]),\n",
       " array([[1]])]"
      ]
     },
     "execution_count": 75,
     "metadata": {},
     "output_type": "execute_result"
    }
   ],
   "source": [
    "p"
   ]
  },
  {
   "cell_type": "code",
   "execution_count": 76,
   "metadata": {},
   "outputs": [
    {
     "data": {
      "text/plain": [
       "array([[-2.0000016e+04, -1.5383713e-02, -1.5383713e-02, -1.5383713e-02]],\n",
       "      dtype=float32)"
      ]
     },
     "execution_count": 76,
     "metadata": {},
     "output_type": "execute_result"
    }
   ],
   "source": [
    "m.predict(p)"
   ]
  },
  {
   "cell_type": "code",
   "execution_count": 77,
   "metadata": {},
   "outputs": [
    {
     "data": {
      "text/plain": [
       "[array([[ 0.01676005],\n",
       "        [ 0.0089029 ],\n",
       "        [ 0.03310007],\n",
       "        [-0.01599564],\n",
       "        [-0.00082667]], dtype=float32),\n",
       " array([[[[-0.14054364]],\n",
       " \n",
       "         [[ 0.2657842 ]]],\n",
       " \n",
       " \n",
       "        [[[ 0.7467684 ]],\n",
       " \n",
       "         [[ 0.57050914]]]], dtype=float32),\n",
       " array([0.], dtype=float32),\n",
       " array([[[[-0.11577761]],\n",
       " \n",
       "         [[-0.410081  ]]],\n",
       " \n",
       " \n",
       "        [[[ 0.39341587]],\n",
       " \n",
       "         [[ 0.4602571 ]]]], dtype=float32),\n",
       " array([0.], dtype=float32),\n",
       " array([[-0.97812414],\n",
       "        [ 0.6274853 ],\n",
       "        [ 0.82485914],\n",
       "        [ 0.19049168],\n",
       "        [-0.81379294]], dtype=float32)]"
      ]
     },
     "execution_count": 77,
     "metadata": {},
     "output_type": "execute_result"
    }
   ],
   "source": [
    "m.get_weights()"
   ]
  },
  {
   "cell_type": "code",
   "execution_count": 2,
   "metadata": {},
   "outputs": [],
   "source": [
    "import numpy as np"
   ]
  },
  {
   "cell_type": "code",
   "execution_count": 3,
   "metadata": {},
   "outputs": [
    {
     "data": {
      "text/plain": [
       "array([[5, 5, 5, 4, 5, 5, 5],\n",
       "       [5, 5, 4, 3, 4, 5, 5],\n",
       "       [5, 4, 3, 2, 3, 4, 5],\n",
       "       [5, 3, 2, 1, 2, 3, 4],\n",
       "       [3, 2, 1, 0, 1, 2, 3]])"
      ]
     },
     "execution_count": 3,
     "metadata": {},
     "output_type": "execute_result"
    }
   ],
   "source": [
    "np.array([5, 5, 5, 4, 5, 5, 5,\n",
    "       5, 5, 4, 3, 4, 5, 5,\n",
    "       5, 4, 3, 2, 3, 4, 5,\n",
    "       5, 3, 2, 1, 2, 3, 4,\n",
    "       3, 2, 1, 0, 1, 2, 3]).reshape(5,7)"
   ]
  },
  {
   "cell_type": "code",
   "execution_count": 85,
   "metadata": {},
   "outputs": [],
   "source": [
    "distance_matrix = tf.constant([5, 5, 5, 4, 5, 5, 5,\n",
    "                                       5, 5, 4, 3, 4, 5, 5,\n",
    "                                       5, 4, 3, 2, 3, 4, 5,\n",
    "                                       5, 3, 2, 1, 2, 3, 4,\n",
    "                                       3, 2, 1, 0, 1, 2, 3], shape=[35])\n",
    "distance = Embedding(6, 1, input_length=35, trainable=True)\n",
    "embeddings = distance(Flatten()(distance_matrix))"
   ]
  },
  {
   "cell_type": "code",
   "execution_count": 86,
   "metadata": {},
   "outputs": [
    {
     "data": {
      "text/plain": [
       "<tf.Tensor 'embedding_11/embedding_lookup/Identity_1:0' shape=(35, 1, 1) dtype=float32>"
      ]
     },
     "execution_count": 86,
     "metadata": {},
     "output_type": "execute_result"
    }
   ],
   "source": [
    "embeddings"
   ]
  },
  {
   "cell_type": "code",
   "execution_count": null,
   "metadata": {},
   "outputs": [],
   "source": [
    "m = Model([inputs] + G_input, pred)"
   ]
  },
  {
   "cell_type": "code",
   "execution_count": 99,
   "metadata": {},
   "outputs": [],
   "source": [
    "forbidden_action = Input(shape=(4,))\n",
    "bodies = Input(shape=(4,))\n",
    "\n",
    "norm_layer = UnitNorm(axis=1)\n",
    "embedding = Embedding(5, 1, input_length=35, trainable=True)\n",
    "\n",
    "distance_matrix = tf.constant([5, 5, 5, 4, 5, 5, 5,\n",
    "                               5, 5, 4, 3, 4, 5, 5,\n",
    "                               5, 4, 3, 2, 3, 4, 5,\n",
    "                               5, 3, 2, 1, 2, 3, 4,\n",
    "                               3, 2, 1, 0, 1, 2, 3], shape=[1, 35])\n",
    "distance = Embedding(6, 1, input_length=35, trainable=True)\n",
    "distance_embeddings = tf.reshape(distance(Flatten()(distance_matrix)), [-1, 35])\n",
    "\n",
    "top = Input(shape=(35,))\n",
    "right = Input(shape=(35,))\n",
    "bottom = Input(shape=(35,))\n",
    "left = Input(shape=(35,))\n",
    "\n",
    "cnn1 = Conv2D(2, 2, activation='elu', use_bias=False, trainable=True)\n",
    "cnn2 = Conv2D(1, 2, activation='elu', use_bias=False, trainable=True)\n",
    "dense = Dense(4, activation='elu', use_bias=False, trainable=True)\n",
    "linear = Dense(1, activation='linear', use_bias=False, trainable=True)\n",
    "\n",
    "def common_blocks(input):\n",
    "    out = embedding(input)\n",
    "    out = norm_layer(out)\n",
    "    out = tf.math.multiply(Flatten()(out), distance_embeddings)\n",
    "    out = tf.reshape(out, [-1, 5, 7, 1])\n",
    "    out = cnn1(out)\n",
    "    out = cnn2(out)\n",
    "    out = Flatten()(out)\n",
    "    out = dense(out)\n",
    "    out = linear(out)\n",
    "    return out\n",
    "\n",
    "top_output = common_blocks(top)\n",
    "right_output = common_blocks(right)\n",
    "bottom_output = common_blocks(bottom)\n",
    "left_output = common_blocks(left)\n",
    "\n",
    "logits = concatenate([left_output, right_output, top_output, bottom_output])\n",
    "\n",
    "inputs = [forbidden_action, top, right, bottom, left, bodies]\n",
    "\n",
    "no_action = tf.math.multiply(forbidden_action, -10000)\n",
    "no_action2 = tf.math.multiply(bodies, -10000)\n",
    "pred = tf.math.add(logits, no_action)\n",
    "pred = distance_embeddings\n",
    "\n",
    "G = Input(shape=(1, ))\n",
    "G_input = [G]\n",
    "\n",
    "\n",
    "cur_loss = reinforce_loss\n",
    "\n",
    "m = Model([inputs] + G_input, pred)\n",
    "\n",
    "optimizer = tf.keras.optimizers.Adam(lr=lr)\n",
    "m.compile(optimizer=optimizer,\n",
    "          loss='mse',\n",
    "          metrics=[],\n",
    "          experimental_run_tf_function=False)"
   ]
  },
  {
   "cell_type": "code",
   "execution_count": 100,
   "metadata": {},
   "outputs": [
    {
     "data": {
      "text/plain": [
       "array([[-0.00268607, -0.00268607, -0.00268607, -0.04961517, -0.00268607,\n",
       "        -0.00268607, -0.00268607, -0.00268607, -0.00268607, -0.04961517,\n",
       "        -0.04393636, -0.04961517, -0.00268607, -0.00268607, -0.00268607,\n",
       "        -0.04961517, -0.04393636,  0.00962238, -0.04393636, -0.04961517,\n",
       "        -0.00268607, -0.00268607, -0.04393636,  0.00962238, -0.01679097,\n",
       "         0.00962238, -0.04393636, -0.04961517, -0.04393636,  0.00962238,\n",
       "        -0.01679097, -0.0005842 , -0.01679097,  0.00962238, -0.04393636]],\n",
       "      dtype=float32)"
      ]
     },
     "execution_count": 100,
     "metadata": {},
     "output_type": "execute_result"
    }
   ],
   "source": [
    "m.predict(p)"
   ]
  },
  {
   "cell_type": "code",
   "execution_count": null,
   "metadata": {},
   "outputs": [],
   "source": []
  }
 ],
 "metadata": {
  "kernelspec": {
   "display_name": "Python 3",
   "language": "python",
   "name": "python3"
  },
  "language_info": {
   "codemirror_mode": {
    "name": "ipython",
    "version": 3
   },
   "file_extension": ".py",
   "mimetype": "text/x-python",
   "name": "python",
   "nbconvert_exporter": "python",
   "pygments_lexer": "ipython3",
   "version": "3.8.5"
  }
 },
 "nbformat": 4,
 "nbformat_minor": 4
}
